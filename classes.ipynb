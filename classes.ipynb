{
 "cells": [
  {
   "cell_type": "markdown",
   "metadata": {},
   "source": [
    "# classes\n",
    "\n",
    "링크: https://github.com/nicewook/intermediatePython/blob/master/classes.rst\n",
    "\n",
    "클래스는 파이썬의 핵심이다. 엄청난 파워를 가지고 있지만 잘못쓸 위험도 크다. \n",
    "\n",
    "자잘한 트릭과 주의점들을 알려주겠다.\n",
    "        \n",
    "        "
   ]
  },
  {
   "cell_type": "markdown",
   "metadata": {},
   "source": [
    "## 인스턴스 변수와 클래스 변수\n",
    "\n",
    "심지어 고수들도 인스턴스 변수와 클래스 변수의 차이를 이해못한다. 그때문에 잘못쓰는 경우가 발생한다. \n",
    "\n",
    "### 가장 큰 차이는\n",
    "\n",
    "- 인스턴스 변수는 각각의 오브젝트마다 유니크한 변수이며\n",
    "- 클래스 변수는 같은 클래스로 만든 여러 인스턴스들 간에 공유하는 변수이다. "
   ]
  },
  {
   "cell_type": "code",
   "execution_count": 1,
   "metadata": {},
   "outputs": [],
   "source": [
    "# 예제를 보자 \n",
    "\n",
    "class Cal(object):\n",
    "    \n",
    "    pi = 3.142 # pi 는 클래스 변수\n",
    "    \n",
    "    def __init__(self, radius):\n",
    "        \n",
    "        self.radius = radius # self.radius 는 인스턴스 변수\n",
    "        \n",
    "    def area(self):\n",
    "        return self.pi * (self.radius ** 2)\n",
    "    "
   ]
  },
  {
   "cell_type": "code",
   "execution_count": 2,
   "metadata": {},
   "outputs": [
    {
     "data": {
      "text/plain": [
       "3217.408"
      ]
     },
     "execution_count": 2,
     "metadata": {},
     "output_type": "execute_result"
    }
   ],
   "source": [
    "a = Cal(32)\n",
    "a.area()"
   ]
  },
  {
   "cell_type": "code",
   "execution_count": 3,
   "metadata": {},
   "outputs": [
    {
     "data": {
      "text/plain": [
       "3.142"
      ]
     },
     "execution_count": 3,
     "metadata": {},
     "output_type": "execute_result"
    }
   ],
   "source": [
    "a.pi"
   ]
  },
  {
   "cell_type": "code",
   "execution_count": 5,
   "metadata": {},
   "outputs": [
    {
     "data": {
      "text/plain": [
       "43"
      ]
     },
     "execution_count": 5,
     "metadata": {},
     "output_type": "execute_result"
    }
   ],
   "source": [
    "a.pi = 43  # 클래스 변수를 변경해보기\n",
    "a.pi"
   ]
  },
  {
   "cell_type": "code",
   "execution_count": 6,
   "metadata": {},
   "outputs": [
    {
     "data": {
      "text/plain": [
       "6082.912"
      ]
     },
     "execution_count": 6,
     "metadata": {},
     "output_type": "execute_result"
    }
   ],
   "source": [
    "b = Cal(44)\n",
    "b.area()"
   ]
  },
  {
   "cell_type": "code",
   "execution_count": 7,
   "metadata": {},
   "outputs": [
    {
     "data": {
      "text/plain": [
       "3.142"
      ]
     },
     "execution_count": 7,
     "metadata": {},
     "output_type": "execute_result"
    }
   ],
   "source": [
    "print(b.pi)  # 아까 a.pi 를 바꿨는데 b.pi 는 안바뀌었네? 흠 좀 이상하다"
   ]
  },
  {
   "cell_type": "code",
   "execution_count": 8,
   "metadata": {},
   "outputs": [
    {
     "data": {
      "text/plain": [
       "968000"
      ]
     },
     "execution_count": 8,
     "metadata": {},
     "output_type": "execute_result"
    }
   ],
   "source": [
    "b.pi = 500\n",
    "b.area()"
   ]
  },
  {
   "cell_type": "code",
   "execution_count": 17,
   "metadata": {},
   "outputs": [
    {
     "name": "stdout",
     "output_type": "stream",
     "text": [
      "43\n",
      "500\n"
     ]
    }
   ],
   "source": [
    "print(a.pi)  \n",
    "print(b.pi)"
   ]
  },
  {
   "cell_type": "markdown",
   "metadata": {},
   "source": [
    "### 여기까지만 봐서는 클래스 변수와 인스턴스 변수의 차이를 알 수 없다.\n",
    "\n",
    "### 다음 예제를 보자"
   ]
  },
  {
   "cell_type": "code",
   "execution_count": 11,
   "metadata": {},
   "outputs": [],
   "source": [
    "class SuperClass(object):\n",
    "    \n",
    "    superpowers = []\n",
    "    \n",
    "    def __init__(self, name):\n",
    "        self.name = name\n",
    "        \n",
    "    def add_superpower(self, power):\n",
    "        self.superpowers.append(power)\n",
    "        \n",
    "        "
   ]
  },
  {
   "cell_type": "code",
   "execution_count": 13,
   "metadata": {},
   "outputs": [
    {
     "name": "stdout",
     "output_type": "stream",
     "text": [
      "foo\n",
      "bar\n"
     ]
    }
   ],
   "source": [
    "foo = SuperClass('foo')\n",
    "bar = SuperClass('bar')\n",
    "\n",
    "print (foo.name)\n",
    "print (bar.name)"
   ]
  },
  {
   "cell_type": "code",
   "execution_count": 15,
   "metadata": {},
   "outputs": [
    {
     "name": "stdout",
     "output_type": "stream",
     "text": [
      "['fly']\n",
      "['fly', 'fire']\n"
     ]
    }
   ],
   "source": [
    "# foo 에 슈퍼파워를 넣었는데 bar 에도 있다.\n",
    "foo.add_superpower('fly')\n",
    "print(bar.superpowers)\n",
    "\n",
    "bar.add_superpower('fire')\n",
    "print(foo.superpowers)"
   ]
  },
  {
   "cell_type": "markdown",
   "metadata": {},
   "source": [
    "### 위와 같이 두 인스턴스간에 공유된 superpowers \n",
    "\n",
    "- 이런 상황을 조심해야 한다. "
   ]
  },
  {
   "cell_type": "markdown",
   "metadata": {},
   "source": [
    "## 새로운 스타일의 클래스\n",
    "\n",
    "새로운 스타일의 클래스가 파이썬 2.1 부터 소개되었음에도 아직 모르는 사람들이 많다. \n",
    "\n",
    "두 클래스의 차이는 \n",
    "\n",
    "- 옛날 스타일 클래스는 어떤 상속도 받은 것이 아니다. \n",
    "- 새로운 스타일의 클래스는 object 에서 상속된 것이다. \n",
    "\n",
    "이게 무엇을 의미할까? 클래스도 object 라는 것이다."
   ]
  },
  {
   "cell_type": "code",
   "execution_count": 20,
   "metadata": {},
   "outputs": [],
   "source": [
    "# 두 클래스의 구현은 object 를 파라미터로 넣어주는가 여부이다. \n",
    "\n",
    "class OldClass():\n",
    "    \n",
    "    def __init__(self):\n",
    "        print(\"OLD CLASS\")\n",
    "        \n",
    "class NewClass(object):\n",
    "    \n",
    "    def __init__(self):\n",
    "        print(\"NEW CLASS\")\n",
    "        "
   ]
  },
  {
   "cell_type": "code",
   "execution_count": 21,
   "metadata": {},
   "outputs": [
    {
     "name": "stdout",
     "output_type": "stream",
     "text": [
      "OLD CLASS\n"
     ]
    },
    {
     "data": {
      "text/plain": [
       "<__main__.OldClass at 0x4eee630>"
      ]
     },
     "execution_count": 21,
     "metadata": {},
     "output_type": "execute_result"
    }
   ],
   "source": [
    "old = OldClass()\n",
    "old"
   ]
  },
  {
   "cell_type": "code",
   "execution_count": 22,
   "metadata": {},
   "outputs": [
    {
     "name": "stdout",
     "output_type": "stream",
     "text": [
      "NEW CLASS\n"
     ]
    },
    {
     "data": {
      "text/plain": [
       "<__main__.NewClass at 0x4eee748>"
      ]
     },
     "execution_count": 22,
     "metadata": {},
     "output_type": "execute_result"
    }
   ],
   "source": [
    "new = NewClass()\n",
    "new"
   ]
  },
  {
   "cell_type": "markdown",
   "metadata": {},
   "source": [
    "### 무조건 New 를 써라. __slots__ 같은 걸 쓸수 있는등 여러 장점이 있다.\n",
    "### 근데 파이썬 3는 그냥 New만 사용하기에 별 상관이 없기도 하다"
   ]
  },
  {
   "cell_type": "markdown",
   "metadata": {},
   "source": [
    "## Magic Methods\n",
    "\n",
    "파이썬 클래스는 ** magic methods ** 로 유명하다. \n",
    "\n",
    "보통 ** dunder (double underscore) ** 라고 부른다. \n",
    "\n",
    "\\__init__ 과 \\__getitem__ 을 보자"
   ]
  },
  {
   "cell_type": "code",
   "execution_count": 23,
   "metadata": {},
   "outputs": [],
   "source": [
    "class GetTest(object):\n",
    "    \n",
    "    def __init__(self):\n",
    "        print('Greetings!!')\n",
    "    \n",
    "    def another_method(self):\n",
    "        print('I am another method which is not'\n",
    "              ' automatically called')\n",
    "\n"
   ]
  },
  {
   "cell_type": "code",
   "execution_count": 24,
   "metadata": {},
   "outputs": [
    {
     "name": "stdout",
     "output_type": "stream",
     "text": [
      "Greetings!!\n"
     ]
    }
   ],
   "source": [
    "a = GetTest()  # 생성되며 __init__() 이 실행되는 것을 알 수 있다."
   ]
  },
  {
   "cell_type": "code",
   "execution_count": 25,
   "metadata": {},
   "outputs": [
    {
     "name": "stdout",
     "output_type": "stream",
     "text": [
      "I am another method which is not automatically called\n"
     ]
    }
   ],
   "source": [
    "a.another_method()\n"
   ]
  },
  {
   "cell_type": "markdown",
   "metadata": {},
   "source": [
    "### 생성자에게 arguments 로 넣을 수 있다."
   ]
  },
  {
   "cell_type": "code",
   "execution_count": 26,
   "metadata": {},
   "outputs": [],
   "source": [
    "class GetTest(object):\n",
    "    \n",
    "    def __init__(self, name):\n",
    "        print('Greetings!! {0}'.format(name))\n",
    "        \n",
    "    def another_method(self):\n",
    "        print('I am another method which is not'\n",
    "              ' automatically called')"
   ]
  },
  {
   "cell_type": "code",
   "execution_count": 27,
   "metadata": {},
   "outputs": [
    {
     "name": "stdout",
     "output_type": "stream",
     "text": [
      "Greetings!! yasoob\n"
     ]
    }
   ],
   "source": [
    "a = GetTest('yasoob')"
   ]
  },
  {
   "cell_type": "code",
   "execution_count": 29,
   "metadata": {},
   "outputs": [
    {
     "ename": "TypeError",
     "evalue": "__init__() missing 1 required positional argument: 'name'",
     "output_type": "error",
     "traceback": [
      "\u001b[1;31m---------------------------------------------------------------------------\u001b[0m",
      "\u001b[1;31mTypeError\u001b[0m                                 Traceback (most recent call last)",
      "\u001b[1;32m<ipython-input-29-b96c63af6b6d>\u001b[0m in \u001b[0;36m<module>\u001b[1;34m()\u001b[0m\n\u001b[1;32m----> 1\u001b[1;33m \u001b[0mb\u001b[0m \u001b[1;33m=\u001b[0m \u001b[0mGetTest\u001b[0m\u001b[1;33m(\u001b[0m\u001b[1;33m)\u001b[0m  \u001b[1;31m# argument 를 넣지 않으면 에러가 난다.\u001b[0m\u001b[1;33m\u001b[0m\u001b[0m\n\u001b[0m",
      "\u001b[1;31mTypeError\u001b[0m: __init__() missing 1 required positional argument: 'name'"
     ]
    }
   ],
   "source": [
    "b = GetTest()  # argument 를 넣지 않으면 에러가 난다. "
   ]
  },
  {
   "cell_type": "markdown",
   "metadata": {},
   "source": [
    "### 이번에는 \\__getitem__ 을 한 번 보자\n",
    "\n",
    "indexer 를 쓸 수 있게 된다."
   ]
  },
  {
   "cell_type": "code",
   "execution_count": 30,
   "metadata": {},
   "outputs": [],
   "source": [
    "class GetTest(object):\n",
    "    def __init__(self):\n",
    "        self.info = {\n",
    "            'name':'Yasoob',\n",
    "            'country':'Pakistan',\n",
    "            'number':12345812\n",
    "        }\n",
    "\n",
    "    def __getitem__(self,i):\n",
    "        return self.info[i]"
   ]
  },
  {
   "cell_type": "code",
   "execution_count": 33,
   "metadata": {},
   "outputs": [
    {
     "name": "stdout",
     "output_type": "stream",
     "text": [
      "Yasoob\n",
      "12345812\n"
     ]
    }
   ],
   "source": [
    "foo = GetTest()\n",
    "print(foo['name'])\n",
    "print(foo['number'])"
   ]
  },
  {
   "cell_type": "markdown",
   "metadata": {},
   "source": [
    "### 이번에는 \\__init__ 이 아닌 다른 데서 정의한 dict 의 경우에도 가능한지 보자 - 가능하다"
   ]
  },
  {
   "cell_type": "code",
   "execution_count": 36,
   "metadata": {},
   "outputs": [],
   "source": [
    "class GetTest2(object):\n",
    "        \n",
    "    def __init__(self):\n",
    "        self.info = {\n",
    "            'name':'Yasoob',\n",
    "            'country':'Pakistan',\n",
    "            'number':12345812\n",
    "        }\n",
    "        \n",
    "    def add_another_info(self):\n",
    "        self.another_info = {\n",
    "        'name':'jhs',\n",
    "        'country':'Korea',\n",
    "        'number':11223344\n",
    "    }\n",
    "\n",
    "    def __getitem__(self,i):\n",
    "        return self.another_info[i]"
   ]
  },
  {
   "cell_type": "code",
   "execution_count": 37,
   "metadata": {},
   "outputs": [
    {
     "name": "stdout",
     "output_type": "stream",
     "text": [
      "jhs\n",
      "Korea\n",
      "11223344\n"
     ]
    }
   ],
   "source": [
    "bar = GetTest2()\n",
    "bar.add_another_info()\n",
    "\n",
    "print(bar['name'])\n",
    "print(bar['country'])\n",
    "print(bar['number'])"
   ]
  },
  {
   "cell_type": "code",
   "execution_count": null,
   "metadata": {},
   "outputs": [],
   "source": []
  }
 ],
 "metadata": {
  "kernelspec": {
   "display_name": "Python 3",
   "language": "python",
   "name": "python3"
  },
  "language_info": {
   "codemirror_mode": {
    "name": "ipython",
    "version": 3
   },
   "file_extension": ".py",
   "mimetype": "text/x-python",
   "name": "python",
   "nbconvert_exporter": "python",
   "pygments_lexer": "ipython3",
   "version": "3.6.5"
  }
 },
 "nbformat": 4,
 "nbformat_minor": 2
}
