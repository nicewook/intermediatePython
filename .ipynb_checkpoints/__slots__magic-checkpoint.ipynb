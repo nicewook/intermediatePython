{
 "cells": [
  {
   "cell_type": "markdown",
   "metadata": {},
   "source": [
    "# \\__slots__ Magic"
   ]
  },
  {
   "cell_type": "markdown",
   "metadata": {},
   "source": [
    "파이썬의 모든 클래스는 인스턴스 attributes 를 가질 수 있다. \n",
    "\n",
    "디폴트로 이런 attributes 를 dict 에 보관한다. \n",
    "\n",
    "이것은 런타임에서 임의로 새로운 attributes 를 설정하는데 큰 도움이 된다. \n",
    "\n",
    "<br>\n",
    "하지만 이미 알고 있는 attributes 를 가진 작은 클래스에서는 오히려 bottleneck 이 된다. \n",
    "\n",
    "왜냐면 dict 는 메모리를 많이 먹기 때문이다. \n",
    "\n",
    "static 하게 dict 를 잡을 수 없기 때문에 수천 - 수백만 object 를 생성한다면 문제가 된다. \n",
    "\n",
    "이걸 피해가는 방법중 하나가 \\__slots__ 를 사용하여 파이썬에게 dict 를 사용하지 않고, \n",
    "\n",
    "정해진 attributes set 에 대해서만 메모리를 할당하겠다고 하는 것이다. \n",
    "\n",
    "\n"
   ]
  },
  {
   "cell_type": "markdown",
   "metadata": {},
   "source": [
    "## 예제를 보자 "
   ]
  },
  {
   "cell_type": "markdown",
   "metadata": {},
   "source": [
    "### \\__slots__ 를 사용하지 않는 경우"
   ]
  },
  {
   "cell_type": "code",
   "execution_count": 2,
   "metadata": {},
   "outputs": [],
   "source": [
    "class MyClass(object):\n",
    "    \n",
    "    def __init__(self, name, identifier):\n",
    "            self.name = name\n",
    "            self.identifier = identifier\n",
    "            self.set_up()\n",
    "    \n",
    "    # ..."
   ]
  },
  {
   "cell_type": "markdown",
   "metadata": {},
   "source": [
    "### \\__slots__ 를 사용하는 경우"
   ]
  },
  {
   "cell_type": "code",
   "execution_count": 3,
   "metadata": {},
   "outputs": [],
   "source": [
    "class MyClass(object):\n",
    "    \n",
    "    __slots__ = ['name', 'identifier']\n",
    "    \n",
    "    def __init__(self, name, identifier):\n",
    "        self.name = name\n",
    "        self.identifier = identifier\n",
    "        self.set_up()\n",
    "        \n",
    "    # ..."
   ]
  },
  {
   "cell_type": "markdown",
   "metadata": {},
   "source": [
    "\\__slots__ 를 사용하는 두번째 코드는 RAM 부담을 줄여줄 것이다.\n",
    "\n",
    "어떤 사람은 40 - 50% 효과를 보았다 한다. \n",
    "\n",
    "(참고) PyPy를 써보는 것도 좋다. 이런 형태의 최적화를 default 로 해준다.\n",
    "\n"
   ]
  },
  {
   "cell_type": "markdown",
   "metadata": {},
   "source": [
    "## 아래 예제를 통해 실제로 얼마나 메모리를 사용하는지 확인 할 수 있다. \n",
    "\n",
    "https://github.com/ianozsvald/ipython_memory_usage"
   ]
  },
  {
   "cell_type": "code",
   "execution_count": null,
   "metadata": {},
   "outputs": [],
   "source": [
    "import"
   ]
  }
 ],
 "metadata": {
  "kernelspec": {
   "display_name": "Python 3",
   "language": "python",
   "name": "python3"
  },
  "language_info": {
   "codemirror_mode": {
    "name": "ipython",
    "version": 3
   },
   "file_extension": ".py",
   "mimetype": "text/x-python",
   "name": "python",
   "nbconvert_exporter": "python",
   "pygments_lexer": "ipython3",
   "version": "3.6.5"
  }
 },
 "nbformat": 4,
 "nbformat_minor": 2
}
