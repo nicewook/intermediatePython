{
 "cells": [
  {
   "cell_type": "markdown",
   "metadata": {},
   "source": [
    "# *args and **kwargs\n",
    "\n",
    "링크: https://github.com/nicewook/intermediatePython/blob/master/args_and_kwargs.rst"
   ]
  },
  {
   "cell_type": "markdown",
   "metadata": {},
   "source": [
    "파이썬 처음 접하는 개발자들이 헤메는 것들중 하나가 *args 와 \\**kwargs 이다. arguments 와 keyword argument 이겠지?\n",
    "\n",
    "일단 꼭 args, kwargs 를 쓸 필요는 없다는 것을 우선 언급해두겠다."
   ]
  },
  {
   "cell_type": "markdown",
   "metadata": {},
   "source": [
    "## *args 사용법\n",
    "\n",
    "*args 와 \\**kwargs 는 함수에 개수가 정해지지 않은 argument 들을 전달할때 사용한다.  \n",
    "\n",
    "즉, 파라미터가 0개부터 무한히 많은 개수까지 전달될 수 있다는 것이다. 둘 중에서 *args 는 키워드가 없는 파라미터와 관련이 있다.\n"
   ]
  },
  {
   "cell_type": "code",
   "execution_count": 2,
   "metadata": {},
   "outputs": [
    {
     "name": "stdout",
     "output_type": "stream",
     "text": [
      "first normal arg:  yasoob\n",
      "another arg through *argv:  python\n",
      "another arg through *argv:  eggs\n",
      "another arg through *argv:  test\n"
     ]
    }
   ],
   "source": [
    "# 예를 하나 보자\n",
    "\n",
    "def test_var_args(f_arg, *argv):\n",
    "    \n",
    "    print(\"first normal arg: \", f_arg)\n",
    "    for arg in argv:\n",
    "        print(\"another arg through *argv: \", arg)\n",
    "        \n",
    "test_var_args('yasoob', 'python', 'eggs', 'test')"
   ]
  },
  {
   "cell_type": "markdown",
   "metadata": {},
   "source": [
    "# \\**kwargs 사용법\n",
    "\n",
    "마치 딕셔너리처럼 키워드가 있는 argument 들을 전달할때 사용한다. \n",
    "\n",
    "즉, 이름이 있는 argument 들은 \\**kwargs 를 사용해야 한다. "
   ]
  },
  {
   "cell_type": "code",
   "execution_count": 4,
   "metadata": {},
   "outputs": [
    {
     "name": "stdout",
     "output_type": "stream",
     "text": [
      "name = yasoob\n",
      "age = 24\n",
      "gender = male\n"
     ]
    }
   ],
   "source": [
    "# 예를 하나 보자\n",
    "\n",
    "def greet_me(**kwargs):\n",
    "    for key, value in kwargs.items():\n",
    "        print(\"{0} = {1}\".format(key, value))\n",
    "        \n",
    "greet_me(name='yasoob', age=24, gender=\"male\")"
   ]
  },
  {
   "cell_type": "markdown",
   "metadata": {},
   "source": [
    "간단한 사용법을 둘러보았다. 이제 조금 고난이도의 사용법을 보자. \n",
    "\n",
    "# 함수 호출할때에 *args 와 \\**kwargs 사용하기"
   ]
  },
  {
   "cell_type": "code",
   "execution_count": 6,
   "metadata": {},
   "outputs": [],
   "source": [
    "# 이런 간단한 함수가 있다고 해보자\n",
    "\n",
    "def test_args_kwargs(arg1, arg2, arg3):\n",
    "    print(\"arg1: \", arg1)\n",
    "    print(\"arg2: \", arg2)\n",
    "    print(\"arg3: \", arg3)"
   ]
  },
  {
   "cell_type": "markdown",
   "metadata": {},
   "source": [
    "### 위 함수에 *args 와 \\**kwargs 를 파라미터로 넣어줄 수 있다."
   ]
  },
  {
   "cell_type": "code",
   "execution_count": 7,
   "metadata": {},
   "outputs": [],
   "source": [
    "args = (\"two\", 3, 5)\n",
    "kwargs = {\"arg3\": 3, \"arg2\": \"two\", \"arg1\":5}"
   ]
  },
  {
   "cell_type": "code",
   "execution_count": 8,
   "metadata": {},
   "outputs": [
    {
     "name": "stdout",
     "output_type": "stream",
     "text": [
      "arg1:  two\n",
      "arg2:  3\n",
      "arg3:  5\n"
     ]
    }
   ],
   "source": [
    "test_args_kwargs(*args)"
   ]
  },
  {
   "cell_type": "code",
   "execution_count": 9,
   "metadata": {},
   "outputs": [
    {
     "name": "stdout",
     "output_type": "stream",
     "text": [
      "arg1:  5\n",
      "arg2:  two\n",
      "arg3:  3\n"
     ]
    }
   ],
   "source": [
    "test_args_kwargs(**kwargs)"
   ]
  },
  {
   "cell_type": "code",
   "execution_count": 10,
   "metadata": {},
   "outputs": [
    {
     "name": "stdout",
     "output_type": "stream",
     "text": [
      "arg1:  ten\n",
      "arg2:  9\n",
      "arg3:  eight\n"
     ]
    }
   ],
   "source": [
    "# () 튜플이 아닌 [] 리스트라면?\n",
    "args2 = [\"ten\", 9, \"eight\"]\n",
    "test_args_kwargs(*args2)"
   ]
  },
  {
   "cell_type": "code",
   "execution_count": 11,
   "metadata": {},
   "outputs": [
    {
     "ename": "TypeError",
     "evalue": "test_args_kwargs() takes 3 positional arguments but 5 were given",
     "output_type": "error",
     "traceback": [
      "\u001b[1;31m---------------------------------------------------------------------------\u001b[0m",
      "\u001b[1;31mTypeError\u001b[0m                                 Traceback (most recent call last)",
      "\u001b[1;32m<ipython-input-11-72b2ca7a74fb>\u001b[0m in \u001b[0;36m<module>\u001b[1;34m()\u001b[0m\n\u001b[0;32m      1\u001b[0m \u001b[1;31m# 파라미터 개수가 다르다면?\u001b[0m\u001b[1;33m\u001b[0m\u001b[1;33m\u001b[0m\u001b[0m\n\u001b[0;32m      2\u001b[0m \u001b[0margs3\u001b[0m \u001b[1;33m=\u001b[0m \u001b[1;33m(\u001b[0m\u001b[1;36m1\u001b[0m\u001b[1;33m,\u001b[0m\u001b[1;36m2\u001b[0m\u001b[1;33m,\u001b[0m\u001b[1;36m3\u001b[0m\u001b[1;33m,\u001b[0m\u001b[1;36m4\u001b[0m\u001b[1;33m,\u001b[0m\u001b[1;36m5\u001b[0m\u001b[1;33m)\u001b[0m\u001b[1;33m\u001b[0m\u001b[0m\n\u001b[1;32m----> 3\u001b[1;33m \u001b[0mtest_args_kwargs\u001b[0m\u001b[1;33m(\u001b[0m\u001b[1;33m*\u001b[0m\u001b[0margs3\u001b[0m\u001b[1;33m)\u001b[0m\u001b[1;33m\u001b[0m\u001b[0m\n\u001b[0m",
      "\u001b[1;31mTypeError\u001b[0m: test_args_kwargs() takes 3 positional arguments but 5 were given"
     ]
    }
   ],
   "source": [
    "# 파라미터 개수가 많다면? 에러 발생\n",
    "args3 = (1,2,3,4,5)\n",
    "test_args_kwargs(*args3)"
   ]
  },
  {
   "cell_type": "code",
   "execution_count": 12,
   "metadata": {},
   "outputs": [
    {
     "ename": "TypeError",
     "evalue": "test_args_kwargs() missing 1 required positional argument: 'arg3'",
     "output_type": "error",
     "traceback": [
      "\u001b[1;31m---------------------------------------------------------------------------\u001b[0m",
      "\u001b[1;31mTypeError\u001b[0m                                 Traceback (most recent call last)",
      "\u001b[1;32m<ipython-input-12-37737dfafc1f>\u001b[0m in \u001b[0;36m<module>\u001b[1;34m()\u001b[0m\n\u001b[0;32m      1\u001b[0m \u001b[1;31m# 파라미터 개수가 적다면? 에러 발생\u001b[0m\u001b[1;33m\u001b[0m\u001b[1;33m\u001b[0m\u001b[0m\n\u001b[0;32m      2\u001b[0m \u001b[0margs4\u001b[0m \u001b[1;33m=\u001b[0m \u001b[1;33m(\u001b[0m\u001b[1;36m1\u001b[0m\u001b[1;33m,\u001b[0m\u001b[1;36m2\u001b[0m\u001b[1;33m)\u001b[0m\u001b[1;33m\u001b[0m\u001b[0m\n\u001b[1;32m----> 3\u001b[1;33m \u001b[0mtest_args_kwargs\u001b[0m\u001b[1;33m(\u001b[0m\u001b[1;33m*\u001b[0m\u001b[0margs4\u001b[0m\u001b[1;33m)\u001b[0m\u001b[1;33m\u001b[0m\u001b[0m\n\u001b[0m",
      "\u001b[1;31mTypeError\u001b[0m: test_args_kwargs() missing 1 required positional argument: 'arg3'"
     ]
    }
   ],
   "source": [
    "# 파라미터 개수가 적다면? 에러 발생\n",
    "args4 = (1,2)\n",
    "test_args_kwargs(*args4)"
   ]
  },
  {
   "cell_type": "markdown",
   "metadata": {},
   "source": [
    "### 일반 파라미터, *args, \\**kwargs 를 다 쓰려면, 순서를 맞춰서 써야 한다. \n",
    "\n",
    "<code>\n",
    "some_func(fargs, *args, **kwargs)\n",
    "</code>"
   ]
  },
  {
   "cell_type": "markdown",
   "metadata": {},
   "source": [
    "## 언제 쓰면 좋을까? "
   ]
  },
  {
   "cell_type": "markdown",
   "metadata": {},
   "source": [
    "1. function decorators 를 쓸때 좋다.\n",
    "2. monkey patching 에 좋다. (= 런타임에 코드를 바꾸는걸 의미한다.)\n",
    "    - 즉, 여기서는 런타임에 arguments 의 개수가 변경하는것에 대응할 수 있다는 것이다. \n",
    "3. 만약 someclass 라는 클래스가 있고, get_info 라는 함수가 클래스 내에 있다고 해보자.\n",
    "    - 함수를 실행하면 어떤 API 를 실행하고, API 가 돌려주는 값을 리턴하는 get_info 라는 함수\n",
    "    - 이걸 테스트 해보고 싶을때에 쓰면 된다."
   ]
  },
  {
   "cell_type": "markdown",
   "metadata": {},
   "source": [
    "<pre><code>\n",
    "import someclass\n",
    "    \n",
    "def get_info(self, *args):\n",
    "    return \"Test data\"\n",
    "    \n",
    "someclass.get_info = get_info\n",
    "    \n",
    "</code></pre>"
   ]
  },
  {
   "cell_type": "code",
   "execution_count": null,
   "metadata": {},
   "outputs": [],
   "source": []
  }
 ],
 "metadata": {
  "kernelspec": {
   "display_name": "Python 3",
   "language": "python",
   "name": "python3"
  },
  "language_info": {
   "codemirror_mode": {
    "name": "ipython",
    "version": 3
   },
   "file_extension": ".py",
   "mimetype": "text/x-python",
   "name": "python",
   "nbconvert_exporter": "python",
   "pygments_lexer": "ipython3",
   "version": "3.6.5"
  }
 },
 "nbformat": 4,
 "nbformat_minor": 2
}
